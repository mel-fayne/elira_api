{
  "cells": [
    {
      "attachments": {},
      "cell_type": "markdown",
      "metadata": {
        "id": "0r1AQsVlYLx9"
      },
      "source": [
        "# Importing Libraries"
      ]
    },
    {
      "cell_type": "code",
      "execution_count": 80,
      "metadata": {
        "id": "Spfj91HrYIpX"
      },
      "outputs": [],
      "source": [
        "import warnings\n",
        "warnings.filterwarnings(\"ignore\")\n",
        "\n",
        "import pandas as pd\n",
        "import numpy as np\n",
        "import matplotlib.pyplot as plt\n",
        "import joblib\n",
        "\n",
        "from sklearn.preprocessing import StandardScaler, LabelEncoder\n",
        "from sklearn.model_selection import train_test_split\n",
        "from sklearn.model_selection import GridSearchCV\n",
        "from sklearn.metrics import accuracy_score, f1_score, confusion_matrix\n",
        "\n",
        "\n",
        "from sklearn.linear_model import LogisticRegression\n",
        "from sklearn.ensemble import RandomForestClassifier\n",
        "from sklearn.ensemble import GradientBoostingClassifier\n",
        "from sklearn.svm import SVC"
      ]
    },
    {
      "attachments": {},
      "cell_type": "markdown",
      "metadata": {
        "id": "Jt-5M4cmYWRO"
      },
      "source": [
        "# Reading Data"
      ]
    },
    {
      "cell_type": "code",
      "execution_count": 81,
      "metadata": {
        "colab": {
          "base_uri": "https://localhost:8080/",
          "height": 317
        },
        "id": "o7lZDk61YtRT",
        "outputId": "e536def4-ecd2-49b4-e01c-aed159ecedb2"
      },
      "outputs": [
        {
          "name": "stdout",
          "output_type": "stream",
          "text": [
            "(480, 55)\n"
          ]
        },
        {
          "data": {
            "text/html": [
              "<div>\n",
              "<style scoped>\n",
              "    .dataframe tbody tr th:only-of-type {\n",
              "        vertical-align: middle;\n",
              "    }\n",
              "\n",
              "    .dataframe tbody tr th {\n",
              "        vertical-align: top;\n",
              "    }\n",
              "\n",
              "    .dataframe thead th {\n",
              "        text-align: right;\n",
              "    }\n",
              "</style>\n",
              "<table border=\"1\" class=\"dataframe\">\n",
              "  <thead>\n",
              "    <tr style=\"text-align: right;\">\n",
              "      <th></th>\n",
              "      <th>studentId</th>\n",
              "      <th>school</th>\n",
              "      <th>current_sem</th>\n",
              "      <th>cs01</th>\n",
              "      <th>cs02</th>\n",
              "      <th>cs03</th>\n",
              "      <th>cs04</th>\n",
              "      <th>cs05</th>\n",
              "      <th>cs06</th>\n",
              "      <th>cs07</th>\n",
              "      <th>...</th>\n",
              "      <th>time_spent</th>\n",
              "      <th>ai_industry</th>\n",
              "      <th>cs_industry</th>\n",
              "      <th>da_industry</th>\n",
              "      <th>gd_industry</th>\n",
              "      <th>ho_industry</th>\n",
              "      <th>is_industry</th>\n",
              "      <th>na_industry</th>\n",
              "      <th>sd_industry</th>\n",
              "      <th>specialisation</th>\n",
              "    </tr>\n",
              "  </thead>\n",
              "  <tbody>\n",
              "    <tr>\n",
              "      <th>475</th>\n",
              "      <td>1965</td>\n",
              "      <td>STRATH</td>\n",
              "      <td>4.0</td>\n",
              "      <td>23.0</td>\n",
              "      <td>39.3</td>\n",
              "      <td>32.20</td>\n",
              "      <td>36.7</td>\n",
              "      <td>27.3</td>\n",
              "      <td>38.0</td>\n",
              "      <td>22.0</td>\n",
              "      <td>...</td>\n",
              "      <td>8</td>\n",
              "      <td>0</td>\n",
              "      <td>0</td>\n",
              "      <td>0</td>\n",
              "      <td>0</td>\n",
              "      <td>0</td>\n",
              "      <td>0</td>\n",
              "      <td>0</td>\n",
              "      <td>1</td>\n",
              "      <td>SD</td>\n",
              "    </tr>\n",
              "    <tr>\n",
              "      <th>476</th>\n",
              "      <td>1966</td>\n",
              "      <td>STRATH</td>\n",
              "      <td>4.0</td>\n",
              "      <td>22.6</td>\n",
              "      <td>32.8</td>\n",
              "      <td>33.55</td>\n",
              "      <td>33.2</td>\n",
              "      <td>25.8</td>\n",
              "      <td>38.3</td>\n",
              "      <td>24.1</td>\n",
              "      <td>...</td>\n",
              "      <td>0</td>\n",
              "      <td>0</td>\n",
              "      <td>0</td>\n",
              "      <td>0</td>\n",
              "      <td>0</td>\n",
              "      <td>0</td>\n",
              "      <td>0</td>\n",
              "      <td>0</td>\n",
              "      <td>0</td>\n",
              "      <td>SD</td>\n",
              "    </tr>\n",
              "    <tr>\n",
              "      <th>477</th>\n",
              "      <td>1967</td>\n",
              "      <td>STRATH</td>\n",
              "      <td>4.0</td>\n",
              "      <td>7.3</td>\n",
              "      <td>17.8</td>\n",
              "      <td>18.27</td>\n",
              "      <td>18.4</td>\n",
              "      <td>8.0</td>\n",
              "      <td>16.0</td>\n",
              "      <td>7.9</td>\n",
              "      <td>...</td>\n",
              "      <td>14</td>\n",
              "      <td>0</td>\n",
              "      <td>0</td>\n",
              "      <td>0</td>\n",
              "      <td>1</td>\n",
              "      <td>0</td>\n",
              "      <td>0</td>\n",
              "      <td>0</td>\n",
              "      <td>1</td>\n",
              "      <td>SD</td>\n",
              "    </tr>\n",
              "    <tr>\n",
              "      <th>478</th>\n",
              "      <td>1968</td>\n",
              "      <td>STRATH</td>\n",
              "      <td>4.0</td>\n",
              "      <td>2.6</td>\n",
              "      <td>19.9</td>\n",
              "      <td>7.23</td>\n",
              "      <td>19.2</td>\n",
              "      <td>9.9</td>\n",
              "      <td>10.9</td>\n",
              "      <td>5.6</td>\n",
              "      <td>...</td>\n",
              "      <td>14</td>\n",
              "      <td>0</td>\n",
              "      <td>0</td>\n",
              "      <td>0</td>\n",
              "      <td>0</td>\n",
              "      <td>0</td>\n",
              "      <td>0</td>\n",
              "      <td>0</td>\n",
              "      <td>1</td>\n",
              "      <td>SD</td>\n",
              "    </tr>\n",
              "    <tr>\n",
              "      <th>479</th>\n",
              "      <td>1969</td>\n",
              "      <td>STRATH</td>\n",
              "      <td>4.0</td>\n",
              "      <td>5.4</td>\n",
              "      <td>15.7</td>\n",
              "      <td>10.55</td>\n",
              "      <td>17.0</td>\n",
              "      <td>3.4</td>\n",
              "      <td>14.8</td>\n",
              "      <td>7.7</td>\n",
              "      <td>...</td>\n",
              "      <td>0</td>\n",
              "      <td>0</td>\n",
              "      <td>0</td>\n",
              "      <td>0</td>\n",
              "      <td>0</td>\n",
              "      <td>0</td>\n",
              "      <td>0</td>\n",
              "      <td>0</td>\n",
              "      <td>0</td>\n",
              "      <td>SD</td>\n",
              "    </tr>\n",
              "  </tbody>\n",
              "</table>\n",
              "<p>5 rows × 55 columns</p>\n",
              "</div>"
            ],
            "text/plain": [
              "     studentId  school  current_sem  cs01  cs02   cs03  cs04  cs05  cs06   \n",
              "475       1965  STRATH          4.0  23.0  39.3  32.20  36.7  27.3  38.0  \\\n",
              "476       1966  STRATH          4.0  22.6  32.8  33.55  33.2  25.8  38.3   \n",
              "477       1967  STRATH          4.0   7.3  17.8  18.27  18.4   8.0  16.0   \n",
              "478       1968  STRATH          4.0   2.6  19.9   7.23  19.2   9.9  10.9   \n",
              "479       1969  STRATH          4.0   5.4  15.7  10.55  17.0   3.4  14.8   \n",
              "\n",
              "     cs07  ...  time_spent  ai_industry  cs_industry  da_industry   \n",
              "475  22.0  ...           8            0            0            0  \\\n",
              "476  24.1  ...           0            0            0            0   \n",
              "477   7.9  ...          14            0            0            0   \n",
              "478   5.6  ...          14            0            0            0   \n",
              "479   7.7  ...           0            0            0            0   \n",
              "\n",
              "     gd_industry  ho_industry  is_industry  na_industry  sd_industry   \n",
              "475            0            0            0            0            1  \\\n",
              "476            0            0            0            0            0   \n",
              "477            1            0            0            0            1   \n",
              "478            0            0            0            0            1   \n",
              "479            0            0            0            0            0   \n",
              "\n",
              "     specialisation  \n",
              "475              SD  \n",
              "476              SD  \n",
              "477              SD  \n",
              "478              SD  \n",
              "479              SD  \n",
              "\n",
              "[5 rows x 55 columns]"
            ]
          },
          "execution_count": 81,
          "metadata": {},
          "output_type": "execute_result"
        }
      ],
      "source": [
        "data = pd.read_csv('./data/strathStudents.csv')\n",
        "print(data.shape)\n",
        "data.tail()"
      ]
    },
    {
      "attachments": {},
      "cell_type": "markdown",
      "metadata": {},
      "source": [
        "# A bit of Pre-Processing"
      ]
    },
    {
      "attachments": {},
      "cell_type": "markdown",
      "metadata": {},
      "source": [
        "## Splitting Dataset"
      ]
    },
    {
      "cell_type": "code",
      "execution_count": 82,
      "metadata": {
        "id": "WC-xNQ6yY7zj"
      },
      "outputs": [],
      "source": [
        "# Select main columns to be used in training\n",
        "main_cols = data.columns.difference(['studentId', 'school', 'specialisation'])\n",
        "X = data[main_cols]\n",
        "y = data['specialisation']"
      ]
    },
    {
      "cell_type": "code",
      "execution_count": 83,
      "metadata": {},
      "outputs": [
        {
          "data": {
            "text/plain": [
              "Index(['ai_industry', 'aspNet', 'c', 'c#', 'c++', 'cmake', 'cs01', 'cs02',\n",
              "       'cs03', 'cs04', 'cs05', 'cs06', 'cs07', 'cs08', 'cs09', 'cs10', 'cs11',\n",
              "       'cs12', 'cs13', 'cs14', 'cs15', 'cs16', 'cs17', 'cs18', 'cs_industry',\n",
              "       'css', 'current_sem', 'da_industry', 'dart', 'gd_industry', 'go',\n",
              "       'ho_industry', 'html', 'internships_no', 'is_industry', 'java',\n",
              "       'javascript', 'jupyter', 'kotlin', 'na_industry', 'objective_c', 'php',\n",
              "       'python', 'r', 'ruby', 'rust', 'scss', 'sd_industry', 'sql', 'swift',\n",
              "       'time_spent', 'typescript'],\n",
              "      dtype='object')"
            ]
          },
          "execution_count": 83,
          "metadata": {},
          "output_type": "execute_result"
        }
      ],
      "source": [
        "X.columns"
      ]
    },
    {
      "cell_type": "code",
      "execution_count": 84,
      "metadata": {},
      "outputs": [
        {
          "name": "stdout",
          "output_type": "stream",
          "text": [
            "(336, 52)\n",
            "(144, 52)\n"
          ]
        }
      ],
      "source": [
        "# Split data into train and test sets\n",
        "X_train, X_test, y_train, y_test = train_test_split(X,y,test_size=0.3, random_state=42)\n",
        "\n",
        "print(X_train.shape)\n",
        "print(X_test.shape)"
      ]
    },
    {
      "cell_type": "code",
      "execution_count": 85,
      "metadata": {
        "id": "XOcg8RHmZDgH"
      },
      "outputs": [],
      "source": [
        "# Scale the features\n",
        "scaler = StandardScaler()\n",
        "X_train = scaler.fit_transform(X_train)\n",
        "X_test = scaler.transform(X_test)"
      ]
    },
    {
      "cell_type": "code",
      "execution_count": 86,
      "metadata": {
        "id": "Vh4-NopAZGM6"
      },
      "outputs": [],
      "source": [
        "# Encode the target variable\n",
        "encoder = LabelEncoder()\n",
        "y_train = encoder.fit_transform(y_train)\n",
        "y_test = encoder.transform(y_test)"
      ]
    },
    {
      "attachments": {},
      "cell_type": "markdown",
      "metadata": {
        "id": "rIudXhCBY3-i"
      },
      "source": [
        "# Modelling"
      ]
    },
    {
      "attachments": {},
      "cell_type": "markdown",
      "metadata": {},
      "source": [
        "## Logistic Regression"
      ]
    },
    {
      "cell_type": "code",
      "execution_count": 87,
      "metadata": {},
      "outputs": [
        {
          "name": "stdout",
          "output_type": "stream",
          "text": [
            "Best Parameters: {'C': 1}\n",
            "Accuracy : 0.9653\n",
            "F1 Score: 0.9651\n",
            "Confusion Matrix :\n",
            "[[24  0  0  0  0  0  0  0]\n",
            " [ 0 20  0  0  0  0  2  0]\n",
            " [ 0  0 14  0  0  0  0  0]\n",
            " [ 0  0  0 15  0  0  0  0]\n",
            " [ 0  0  0  0 10  0  0  0]\n",
            " [ 0  1  1  0  0 15  0  0]\n",
            " [ 0  0  0  0  0  0 18  0]\n",
            " [ 0  0  0  1  0  0  0 23]]\n"
          ]
        }
      ],
      "source": [
        "# Define the hyperparameters to tune\n",
        "parameters = {'C': [0.1, 1, 10]} # determines regularisation stretgth which helps prevent overfiting\n",
        "\n",
        "# Create the Logistic Regression model\n",
        "model_lr = LogisticRegression()\n",
        "\n",
        "# Perform grid search to find the best hyperparameters\n",
        "grid_search = GridSearchCV(model_lr, parameters, scoring='accuracy', cv=5)\n",
        "grid_search.fit(X_train, y_train)\n",
        "\n",
        "# Get the best model\n",
        "best_model_lr = grid_search.best_estimator_\n",
        "\n",
        "# Make predictions on the test set\n",
        "y_pred_model_lr = best_model_lr.predict(X_test)\n",
        "\n",
        "# Calculate evaluation metrics\n",
        "accuracy_model_lr = accuracy_score(y_test, y_pred_model_lr)\n",
        "f1_score_model_lr = f1_score(y_test, y_pred_model_lr, average='weighted')\n",
        "cm_model_lr = confusion_matrix(y_test, y_pred_model_lr)\n",
        "\n",
        "print(f\"Best Parameters: {grid_search.best_params_}\")\n",
        "print(f\"Accuracy : {round(accuracy_model_lr, 4)}\")\n",
        "print(f\"F1 Score: {round(f1_score_model_lr, 4)}\")\n",
        "print(f\"Confusion Matrix :\")\n",
        "print(cm_model_lr)\n"
      ]
    },
    {
      "attachments": {},
      "cell_type": "markdown",
      "metadata": {},
      "source": [
        "## Support Vecor Machine"
      ]
    },
    {
      "cell_type": "code",
      "execution_count": 88,
      "metadata": {},
      "outputs": [
        {
          "name": "stdout",
          "output_type": "stream",
          "text": [
            "Best Parameters: {'C': 10, 'kernel': 'linear'}\n",
            "Accuracy : 0.9583\n",
            "F1 Score: 0.9584\n",
            "Confusion Matrix :\n",
            "[[22  0  1  0  1  0  0  0]\n",
            " [ 0 20  0  0  0  0  2  0]\n",
            " [ 0  0 14  0  0  0  0  0]\n",
            " [ 0  0  0 15  0  0  0  0]\n",
            " [ 0  0  0  0 10  0  0  0]\n",
            " [ 0  0  1  1  0 15  0  0]\n",
            " [ 0  0  0  0  0  0 18  0]\n",
            " [ 0  0  0  0  0  0  0 24]]\n"
          ]
        }
      ],
      "source": [
        "# Define the hyperparameters to tune\n",
        "parameters = {'C': [0.1, 1, 10],\n",
        "              'kernel': ['linear', 'rbf']}\n",
        "\n",
        "# Create the model_SVM model\n",
        "model_svm = SVC()\n",
        "\n",
        "# Perform grid search to find the best hyperparameters\n",
        "grid_search = GridSearchCV(model_svm, parameters, scoring='accuracy', cv=5)\n",
        "grid_search.fit(X_train, y_train)\n",
        "\n",
        "# Get the best model\n",
        "best_model_svm = grid_search.best_estimator_\n",
        "\n",
        "# Make predictions on the test set\n",
        "y_pred_model_svm = best_model_svm.predict(X_test)\n",
        "\n",
        "# Calculate evaluation metrics\n",
        "accuracy_model_svm = accuracy_score(y_test, y_pred_model_svm)\n",
        "f1_score_model_svm = f1_score(y_test, y_pred_model_svm, average='weighted')\n",
        "cm_model_svm = confusion_matrix(y_test, y_pred_model_svm)\n",
        "\n",
        "print(f\"Best Parameters: {grid_search.best_params_}\")\n",
        "print(f\"Accuracy : {round(accuracy_model_svm, 4)}\")\n",
        "print(f\"F1 Score: {round(f1_score_model_svm, 4)}\")\n",
        "print(f\"Confusion Matrix :\")\n",
        "print(cm_model_svm)"
      ]
    },
    {
      "attachments": {},
      "cell_type": "markdown",
      "metadata": {},
      "source": [
        "## Gradient Boosting"
      ]
    },
    {
      "cell_type": "code",
      "execution_count": 89,
      "metadata": {},
      "outputs": [],
      "source": [
        "# # Define the hyperparameters to tune\n",
        "# parameters = {'n_estimators': [100, 200, 300],\n",
        "#               'learning_rate': [0.1, 0.05, 0.01],\n",
        "#               'max_depth': [3, 5, 10]}\n",
        "\n",
        "# # Create the Gradient Boosting model\n",
        "# model_gb = GradientBoostingClassifier()\n",
        "\n",
        "# # Perform grid search to find the best hyperparameters\n",
        "# grid_search = GridSearchCV(model_gb, parameters, scoring='accuracy', cv=5)\n",
        "# grid_search.fit(X_train, y_train)\n",
        "\n",
        "# # Get the best model\n",
        "# best_model_gb = grid_search.best_estimator_\n",
        "\n",
        "# # Make predictions on the test set\n",
        "# y_pred_model_gb = best_model_gb.predict(X_test)\n",
        "\n",
        "# # Calculate evaluation metrics\n",
        "# accuracy_model_gb = accuracy_score(y_test, y_pred_model_gb)\n",
        "# f1_score_model_gb = f1_score(y_test, y_pred_model_gb, average='weighted')\n",
        "# cm_model_gb = confusion_matrix(y_test, y_pred_model_gb)\n",
        "\n",
        "# print(f\"Best Parameters: {grid_search.best_params_}\")\n",
        "# print(f\"Accuracy : {round(accuracy_model_gb, 4)}\")\n",
        "# print(f\"F1 Score: {round(f1_score_model_gb, 4)}\")\n",
        "# print(f\"Confusion Matrix :\")\n",
        "# print(cm_model_gb)"
      ]
    },
    {
      "attachments": {},
      "cell_type": "markdown",
      "metadata": {},
      "source": [
        "## Random Forest"
      ]
    },
    {
      "cell_type": "code",
      "execution_count": 90,
      "metadata": {},
      "outputs": [
        {
          "name": "stdout",
          "output_type": "stream",
          "text": [
            "Best Parameters: {'max_depth': 5, 'n_estimators': 100}\n",
            "Accuracy : 1.0\n",
            "F1 Score: 1.0\n",
            "Confusion Matrix :\n",
            "[[24  0  0  0  0  0  0  0]\n",
            " [ 0 22  0  0  0  0  0  0]\n",
            " [ 0  0 14  0  0  0  0  0]\n",
            " [ 0  0  0 15  0  0  0  0]\n",
            " [ 0  0  0  0 10  0  0  0]\n",
            " [ 0  0  0  0  0 17  0  0]\n",
            " [ 0  0  0  0  0  0 18  0]\n",
            " [ 0  0  0  0  0  0  0 24]]\n"
          ]
        }
      ],
      "source": [
        "# Define the hyperparameters to tune\n",
        "parameters = {'n_estimators': [100, 200, 300],\n",
        "              'max_depth': [None, 5, 10]}\n",
        "\n",
        "# Create the Random Forest model\n",
        "model_rf = RandomForestClassifier()\n",
        "\n",
        "# Pemodel_rform grid search to find the best hyperparameters\n",
        "grid_search = GridSearchCV(model_rf, parameters, scoring='accuracy', cv=5)\n",
        "grid_search.fit(X_train, y_train)\n",
        "\n",
        "# Get the best model\n",
        "best_model_rf = grid_search.best_estimator_\n",
        "\n",
        "# Make predictions on the test set\n",
        "y_pred_model_rf = best_model_rf.predict(X_test)\n",
        "\n",
        "# Calculate evaluation metrics\n",
        "accuracy_model_rf = accuracy_score(y_test, y_pred_model_rf)\n",
        "f1_score_model_rf = f1_score(y_test, y_pred_model_rf, average='weighted')\n",
        "cm_model_rf = confusion_matrix(y_test, y_pred_model_rf)\n",
        "\n",
        "print(f\"Best Parameters: {grid_search.best_params_}\")\n",
        "print(f\"Accuracy : {round(accuracy_model_rf, 4)}\")\n",
        "print(f\"F1 Score: {round(f1_score_model_rf, 4)}\")\n",
        "print(f\"Confusion Matrix :\")\n",
        "print(cm_model_rf)\n"
      ]
    },
    {
      "attachments": {},
      "cell_type": "markdown",
      "metadata": {
        "id": "VLEsKGs_ZMel"
      },
      "source": [
        "## Random Forest Classifier"
      ]
    },
    {
      "cell_type": "code",
      "execution_count": 91,
      "metadata": {
        "colab": {
          "base_uri": "https://localhost:8080/",
          "height": 75
        },
        "id": "fBdb08eDZLqo",
        "outputId": "5755e803-475a-4d99-9a57-c53dc01e2298"
      },
      "outputs": [
        {
          "data": {
            "text/html": [
              "<style>#sk-container-id-3 {color: black;background-color: white;}#sk-container-id-3 pre{padding: 0;}#sk-container-id-3 div.sk-toggleable {background-color: white;}#sk-container-id-3 label.sk-toggleable__label {cursor: pointer;display: block;width: 100%;margin-bottom: 0;padding: 0.3em;box-sizing: border-box;text-align: center;}#sk-container-id-3 label.sk-toggleable__label-arrow:before {content: \"▸\";float: left;margin-right: 0.25em;color: #696969;}#sk-container-id-3 label.sk-toggleable__label-arrow:hover:before {color: black;}#sk-container-id-3 div.sk-estimator:hover label.sk-toggleable__label-arrow:before {color: black;}#sk-container-id-3 div.sk-toggleable__content {max-height: 0;max-width: 0;overflow: hidden;text-align: left;background-color: #f0f8ff;}#sk-container-id-3 div.sk-toggleable__content pre {margin: 0.2em;color: black;border-radius: 0.25em;background-color: #f0f8ff;}#sk-container-id-3 input.sk-toggleable__control:checked~div.sk-toggleable__content {max-height: 200px;max-width: 100%;overflow: auto;}#sk-container-id-3 input.sk-toggleable__control:checked~label.sk-toggleable__label-arrow:before {content: \"▾\";}#sk-container-id-3 div.sk-estimator input.sk-toggleable__control:checked~label.sk-toggleable__label {background-color: #d4ebff;}#sk-container-id-3 div.sk-label input.sk-toggleable__control:checked~label.sk-toggleable__label {background-color: #d4ebff;}#sk-container-id-3 input.sk-hidden--visually {border: 0;clip: rect(1px 1px 1px 1px);clip: rect(1px, 1px, 1px, 1px);height: 1px;margin: -1px;overflow: hidden;padding: 0;position: absolute;width: 1px;}#sk-container-id-3 div.sk-estimator {font-family: monospace;background-color: #f0f8ff;border: 1px dotted black;border-radius: 0.25em;box-sizing: border-box;margin-bottom: 0.5em;}#sk-container-id-3 div.sk-estimator:hover {background-color: #d4ebff;}#sk-container-id-3 div.sk-parallel-item::after {content: \"\";width: 100%;border-bottom: 1px solid gray;flex-grow: 1;}#sk-container-id-3 div.sk-label:hover label.sk-toggleable__label {background-color: #d4ebff;}#sk-container-id-3 div.sk-serial::before {content: \"\";position: absolute;border-left: 1px solid gray;box-sizing: border-box;top: 0;bottom: 0;left: 50%;z-index: 0;}#sk-container-id-3 div.sk-serial {display: flex;flex-direction: column;align-items: center;background-color: white;padding-right: 0.2em;padding-left: 0.2em;position: relative;}#sk-container-id-3 div.sk-item {position: relative;z-index: 1;}#sk-container-id-3 div.sk-parallel {display: flex;align-items: stretch;justify-content: center;background-color: white;position: relative;}#sk-container-id-3 div.sk-item::before, #sk-container-id-3 div.sk-parallel-item::before {content: \"\";position: absolute;border-left: 1px solid gray;box-sizing: border-box;top: 0;bottom: 0;left: 50%;z-index: -1;}#sk-container-id-3 div.sk-parallel-item {display: flex;flex-direction: column;z-index: 1;position: relative;background-color: white;}#sk-container-id-3 div.sk-parallel-item:first-child::after {align-self: flex-end;width: 50%;}#sk-container-id-3 div.sk-parallel-item:last-child::after {align-self: flex-start;width: 50%;}#sk-container-id-3 div.sk-parallel-item:only-child::after {width: 0;}#sk-container-id-3 div.sk-dashed-wrapped {border: 1px dashed gray;margin: 0 0.4em 0.5em 0.4em;box-sizing: border-box;padding-bottom: 0.4em;background-color: white;}#sk-container-id-3 div.sk-label label {font-family: monospace;font-weight: bold;display: inline-block;line-height: 1.2em;}#sk-container-id-3 div.sk-label-container {text-align: center;}#sk-container-id-3 div.sk-container {/* jupyter's `normalize.less` sets `[hidden] { display: none; }` but bootstrap.min.css set `[hidden] { display: none !important; }` so we also need the `!important` here to be able to override the default hidden behavior on the sphinx rendered scikit-learn.org. See: https://github.com/scikit-learn/scikit-learn/issues/21755 */display: inline-block !important;position: relative;}#sk-container-id-3 div.sk-text-repr-fallback {display: none;}</style><div id=\"sk-container-id-3\" class=\"sk-top-container\"><div class=\"sk-text-repr-fallback\"><pre>RandomForestClassifier(max_depth=5, random_state=42)</pre><b>In a Jupyter environment, please rerun this cell to show the HTML representation or trust the notebook. <br />On GitHub, the HTML representation is unable to render, please try loading this page with nbviewer.org.</b></div><div class=\"sk-container\" hidden><div class=\"sk-item\"><div class=\"sk-estimator sk-toggleable\"><input class=\"sk-toggleable__control sk-hidden--visually\" id=\"sk-estimator-id-3\" type=\"checkbox\" checked><label for=\"sk-estimator-id-3\" class=\"sk-toggleable__label sk-toggleable__label-arrow\">RandomForestClassifier</label><div class=\"sk-toggleable__content\"><pre>RandomForestClassifier(max_depth=5, random_state=42)</pre></div></div></div></div></div>"
            ],
            "text/plain": [
              "RandomForestClassifier(max_depth=5, random_state=42)"
            ]
          },
          "execution_count": 91,
          "metadata": {},
          "output_type": "execute_result"
        }
      ],
      "source": [
        "# Train a random forest classifier\n",
        "model_rf = RandomForestClassifier(n_estimators=100, max_depth=5, random_state=42)\n",
        "model_rf.fit(X_train, y_train)"
      ]
    },
    {
      "cell_type": "code",
      "execution_count": 92,
      "metadata": {
        "colab": {
          "base_uri": "https://localhost:8080/"
        },
        "id": "FVeXCHF7ZRD7",
        "outputId": "92a8d62f-69bb-440b-830d-0bbae0201cb7"
      },
      "outputs": [
        {
          "name": "stdout",
          "output_type": "stream",
          "text": [
            "Accuracy: 1.00\n"
          ]
        }
      ],
      "source": [
        "# Evaluate the model on the testing set\n",
        "accuracy = model_rf.score(X_test, y_test)\n",
        "print(f'Accuracy: {accuracy:.2f}')"
      ]
    },
    {
      "cell_type": "code",
      "execution_count": 93,
      "metadata": {},
      "outputs": [],
      "source": [
        "importances = model_rf.feature_importances_\n",
        "indices = np.argsort(importances)"
      ]
    },
    {
      "cell_type": "code",
      "execution_count": 94,
      "metadata": {},
      "outputs": [
        {
          "data": {
            "image/png": "[encoded data removed]",
            "text/plain": [
              "<Figure size 1500x1200 with 1 Axes>"
            ]
          },
          "metadata": {},
          "output_type": "display_data"
        }
      ],
      "source": [
        "X_df = pd.DataFrame(X_train)\n",
        "\n",
        "fig, ax = plt.subplots(figsize=(15, 12))\n",
        "ax.barh(range(X_df.shape[1]), list(importances[indices]), align='center')\n",
        "ax.set_yticks(range(X_df.shape[1]))\n",
        "ax.set_yticklabels(data.columns[indices])\n",
        "ax.set_xlabel('Importance')\n",
        "ax.set_ylabel('Column')\n",
        "ax.set_title('Random Forest Feature Importance Plot - Strathmore Dataset')\n",
        "\n",
        "# Add the importance value at the end of each bar\n",
        "for i, v in enumerate(importances[indices]):\n",
        "    ax.text(v + 0.001, i, str(round(v, 3)))\n",
        "\n",
        "plt.show()"
      ]
    },
    {
      "attachments": {},
      "cell_type": "markdown",
      "metadata": {},
      "source": [
        "# Exporting the Model"
      ]
    },
    {
      "cell_type": "code",
      "execution_count": 95,
      "metadata": {},
      "outputs": [
        {
          "data": {
            "text/plain": [
              "['trainedModels/strathClassifier.pkl']"
            ]
          },
          "execution_count": 95,
          "metadata": {},
          "output_type": "execute_result"
        }
      ],
      "source": [
        "# save the trained classifier as a .pkl file\n",
        "joblib.dump(model_rf, 'trainedModels/strathClassifier.pkl')"
      ]
    },
    {
      "attachments": {},
      "cell_type": "markdown",
      "metadata": {},
      "source": [
        "# Make specialisation predictions on test data"
      ]
    },
    {
      "cell_type": "code",
      "execution_count": 96,
      "metadata": {},
      "outputs": [],
      "source": [
        "# Create a new instance of student data to make predictions on\n",
        "new_student = pd.DataFrame({\n",
        "    'current_sem': [3.1],\n",
        "    'cs01': [22.85],\n",
        "    'cs02': [26.5],\n",
        "    'cs03': [40],\n",
        "    'cs04': [18.1],\n",
        "    'cs05': [21.74],\n",
        "    'cs06': [9.47],\n",
        "    'cs07': [28.5],\n",
        "    'cs08': [7.08],\n",
        "    'cs09': [0],\n",
        "    'cs10': [0],\n",
        "    'cs11': [0],\n",
        "    'cs12': [20],\n",
        "    'cs13': [0],\n",
        "    'cs14': [40],\n",
        "    'cs15': [26.65],\n",
        "    'cs16': [0],\n",
        "    'cs17': [0],\n",
        "    'cs18': [0],\n",
        "    'academic_average': [23.72],\n",
        "    'c': [14],\n",
        "    'cmake': [14],\n",
        "    'c++': [19.8],\n",
        "    'java': [0],\n",
        "    'javascript': [91.2],\n",
        "    'python': [18.3],\n",
        "    'r': [0],\n",
        "    'jupyter': [0],\n",
        "    'dart': [0],\n",
        "    'kotlin': [0],\n",
        "    'go': [0],\n",
        "    'swift': [0],\n",
        "    'c#': [0],\n",
        "    'aspNet': [0],\n",
        "    'typescript': [0],\n",
        "    'php': [0],\n",
        "    'objective_c': [0],\n",
        "    'ruby': [0],\n",
        "    'html': [1],\n",
        "    'css': [9],\n",
        "    'scss': [9],\n",
        "    'sql': [0],\n",
        "    'rust': [1],\n",
        "    'internships_no': [0],\n",
        "    'time_spent': [1],\n",
        "    'ai_industry': [0],\n",
        "    'cs_industry': [0],\n",
        "    'da_industry': [0],\n",
        "    'gd_industry': [0],\n",
        "    'ho_industry': [0],\n",
        "    'is_industry': [0],\n",
        "    'na_industry': [0],\n",
        "    'sd_industry': [1]\n",
        "})\n",
        "new_student = new_student[['ai_industry', 'aspNet', 'c', 'c#', 'c++', 'cmake', 'cs01', 'cs02',\n",
        "       'cs03', 'cs04', 'cs05', 'cs06', 'cs07', 'cs08', 'cs09', 'cs10', 'cs11',\n",
        "       'cs12', 'cs13', 'cs14', 'cs15', 'cs16', 'cs17', 'cs18', 'cs_industry',\n",
        "       'css', 'current_sem', 'da_industry', 'dart', 'gd_industry', 'go',\n",
        "       'ho_industry', 'html', 'internships_no', 'is_industry', 'java',\n",
        "       'javascript', 'jupyter', 'kotlin', 'na_industry', 'objective_c', 'php',\n",
        "       'python', 'r', 'ruby', 'rust', 'scss', 'sd_industry', 'sql', 'swift',\n",
        "       'time_spent', 'typescript']]\n",
        "new_student = scaler.transform(new_student)"
      ]
    },
    {
      "cell_type": "code",
      "execution_count": 97,
      "metadata": {
        "colab": {
          "base_uri": "https://localhost:8080/"
        },
        "id": "0PvkK-RAaBMd",
        "outputId": "d301cb55-c2c3-4f76-92eb-797bf253fbc2"
      },
      "outputs": [
        {
          "data": {
            "text/plain": [
              "array(['CS'], dtype=object)"
            ]
          },
          "execution_count": 97,
          "metadata": {},
          "output_type": "execute_result"
        }
      ],
      "source": [
        "# Get Student Prediction\n",
        "preds = model_rf.predict(new_student)\n",
        "preds = encoder.inverse_transform(preds)\n",
        "preds"
      ]
    },
    {
      "cell_type": "code",
      "execution_count": 98,
      "metadata": {
        "colab": {
          "base_uri": "https://localhost:8080/"
        },
        "id": "l1nTVi29aOSR",
        "outputId": "f661345a-dad8-495d-9da3-f12a886bb4e5"
      },
      "outputs": [
        {
          "name": "stdout",
          "output_type": "stream",
          "text": [
            "AI: 0.00\n",
            "CS: 0.32\n",
            "DA: 0.23\n",
            "GD: 0.00\n",
            "HO: 0.28\n",
            "IS: 0.06\n",
            "NC: 0.10\n",
            "SD: 0.00\n"
          ]
        }
      ],
      "source": [
        "# Compute specialisation compatibility scores\n",
        "probs = model_rf.predict_proba(new_student)\n",
        "for spec, prob in zip(encoder.classes_, probs[0]):\n",
        "    print(f'{spec}: {prob:.2f}')"
      ]
    }
  ],
  "metadata": {
    "colab": {
      "provenance": []
    },
    "kernelspec": {
      "display_name": "Python 3",
      "name": "python3"
    },
    "language_info": {
      "codemirror_mode": {
        "name": "ipython",
        "version": 3
      },
      "file_extension": ".py",
      "mimetype": "text/x-python",
      "name": "python",
      "nbconvert_exporter": "python",
      "pygments_lexer": "ipython3",
      "version": "3.10.6"
    }
  },
  "nbformat": 4,
  "nbformat_minor": 0
}
