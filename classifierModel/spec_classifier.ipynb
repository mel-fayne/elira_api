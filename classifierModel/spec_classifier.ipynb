{
  "cells": [
    {
      "attachments": {},
      "cell_type": "markdown",
      "metadata": {
        "id": "0r1AQsVlYLx9"
      },
      "source": [
        "# Importing Libraries"
      ]
    },
    {
      "cell_type": "code",
      "execution_count": 52,
      "metadata": {
        "id": "Spfj91HrYIpX"
      },
      "outputs": [],
      "source": [
        "import warnings\n",
        "warnings.filterwarnings(\"ignore\")\n",
        "\n",
        "import pandas as pd\n",
        "import numpy as np\n",
        "import matplotlib.pyplot as plt\n",
        "import joblib\n",
        "\n",
        "from sklearn.preprocessing import StandardScaler, LabelEncoder\n",
        "from sklearn.model_selection import train_test_split\n",
        "from sklearn.model_selection import GridSearchCV\n",
        "from sklearn.metrics import accuracy_score, f1_score, confusion_matrix\n",
        "\n",
        "\n",
        "from sklearn.linear_model import LogisticRegression\n",
        "from sklearn.ensemble import RandomForestClassifier\n",
        "from sklearn.ensemble import GradientBoostingClassifier\n",
        "from sklearn.svm import SVC"
      ]
    },
    {
      "attachments": {},
      "cell_type": "markdown",
      "metadata": {
        "id": "Jt-5M4cmYWRO"
      },
      "source": [
        "# Reading Data"
      ]
    },
    {
      "cell_type": "code",
      "execution_count": 53,
      "metadata": {
        "colab": {
          "base_uri": "https://localhost:8080/",
          "height": 317
        },
        "id": "o7lZDk61YtRT",
        "outputId": "e536def4-ecd2-49b4-e01c-aed159ecedb2"
      },
      "outputs": [
        {
          "name": "stdout",
          "output_type": "stream",
          "text": [
            "(960, 55)\n"
          ]
        },
        {
          "data": {
            "text/html": [
              "<div>\n",
              "<style scoped>\n",
              "    .dataframe tbody tr th:only-of-type {\n",
              "        vertical-align: middle;\n",
              "    }\n",
              "\n",
              "    .dataframe tbody tr th {\n",
              "        vertical-align: top;\n",
              "    }\n",
              "\n",
              "    .dataframe thead th {\n",
              "        text-align: right;\n",
              "    }\n",
              "</style>\n",
              "<table border=\"1\" class=\"dataframe\">\n",
              "  <thead>\n",
              "    <tr style=\"text-align: right;\">\n",
              "      <th></th>\n",
              "      <th>studentId</th>\n",
              "      <th>school</th>\n",
              "      <th>current_sem</th>\n",
              "      <th>cs01</th>\n",
              "      <th>cs02</th>\n",
              "      <th>cs03</th>\n",
              "      <th>cs04</th>\n",
              "      <th>cs05</th>\n",
              "      <th>cs06</th>\n",
              "      <th>cs07</th>\n",
              "      <th>...</th>\n",
              "      <th>time_spent</th>\n",
              "      <th>ai_industry</th>\n",
              "      <th>cs_industry</th>\n",
              "      <th>da_industry</th>\n",
              "      <th>gd_industry</th>\n",
              "      <th>ho_industry</th>\n",
              "      <th>is_industry</th>\n",
              "      <th>na_industry</th>\n",
              "      <th>sd_industry</th>\n",
              "      <th>specialisation</th>\n",
              "    </tr>\n",
              "  </thead>\n",
              "  <tbody>\n",
              "    <tr>\n",
              "      <th>955</th>\n",
              "      <td>1965</td>\n",
              "      <td>JKUAT</td>\n",
              "      <td>4.2</td>\n",
              "      <td>37.63</td>\n",
              "      <td>20.31</td>\n",
              "      <td>40</td>\n",
              "      <td>28.93</td>\n",
              "      <td>34.21</td>\n",
              "      <td>20.47</td>\n",
              "      <td>39.10</td>\n",
              "      <td>...</td>\n",
              "      <td>8</td>\n",
              "      <td>0</td>\n",
              "      <td>0</td>\n",
              "      <td>0</td>\n",
              "      <td>0</td>\n",
              "      <td>0</td>\n",
              "      <td>0</td>\n",
              "      <td>0</td>\n",
              "      <td>1</td>\n",
              "      <td>SD</td>\n",
              "    </tr>\n",
              "    <tr>\n",
              "      <th>956</th>\n",
              "      <td>1966</td>\n",
              "      <td>JKUAT</td>\n",
              "      <td>4.2</td>\n",
              "      <td>37.35</td>\n",
              "      <td>21.92</td>\n",
              "      <td>40</td>\n",
              "      <td>24.35</td>\n",
              "      <td>38.30</td>\n",
              "      <td>22.10</td>\n",
              "      <td>32.73</td>\n",
              "      <td>...</td>\n",
              "      <td>0</td>\n",
              "      <td>0</td>\n",
              "      <td>0</td>\n",
              "      <td>0</td>\n",
              "      <td>0</td>\n",
              "      <td>0</td>\n",
              "      <td>0</td>\n",
              "      <td>0</td>\n",
              "      <td>0</td>\n",
              "      <td>SD</td>\n",
              "    </tr>\n",
              "    <tr>\n",
              "      <th>957</th>\n",
              "      <td>1967</td>\n",
              "      <td>JKUAT</td>\n",
              "      <td>4.2</td>\n",
              "      <td>19.21</td>\n",
              "      <td>9.05</td>\n",
              "      <td>20</td>\n",
              "      <td>6.94</td>\n",
              "      <td>13.21</td>\n",
              "      <td>0.45</td>\n",
              "      <td>11.59</td>\n",
              "      <td>...</td>\n",
              "      <td>14</td>\n",
              "      <td>0</td>\n",
              "      <td>0</td>\n",
              "      <td>0</td>\n",
              "      <td>0</td>\n",
              "      <td>0</td>\n",
              "      <td>0</td>\n",
              "      <td>0</td>\n",
              "      <td>1</td>\n",
              "      <td>SD</td>\n",
              "    </tr>\n",
              "    <tr>\n",
              "      <th>958</th>\n",
              "      <td>1968</td>\n",
              "      <td>JKUAT</td>\n",
              "      <td>4.2</td>\n",
              "      <td>19.69</td>\n",
              "      <td>1.50</td>\n",
              "      <td>20</td>\n",
              "      <td>8.91</td>\n",
              "      <td>17.11</td>\n",
              "      <td>8.00</td>\n",
              "      <td>17.42</td>\n",
              "      <td>...</td>\n",
              "      <td>14</td>\n",
              "      <td>0</td>\n",
              "      <td>0</td>\n",
              "      <td>0</td>\n",
              "      <td>0</td>\n",
              "      <td>0</td>\n",
              "      <td>0</td>\n",
              "      <td>0</td>\n",
              "      <td>1</td>\n",
              "      <td>SD</td>\n",
              "    </tr>\n",
              "    <tr>\n",
              "      <th>959</th>\n",
              "      <td>1969</td>\n",
              "      <td>JKUAT</td>\n",
              "      <td>4.2</td>\n",
              "      <td>19.35</td>\n",
              "      <td>6.09</td>\n",
              "      <td>20</td>\n",
              "      <td>3.81</td>\n",
              "      <td>17.02</td>\n",
              "      <td>6.12</td>\n",
              "      <td>14.03</td>\n",
              "      <td>...</td>\n",
              "      <td>0</td>\n",
              "      <td>0</td>\n",
              "      <td>0</td>\n",
              "      <td>0</td>\n",
              "      <td>0</td>\n",
              "      <td>0</td>\n",
              "      <td>0</td>\n",
              "      <td>0</td>\n",
              "      <td>0</td>\n",
              "      <td>SD</td>\n",
              "    </tr>\n",
              "  </tbody>\n",
              "</table>\n",
              "<p>5 rows × 55 columns</p>\n",
              "</div>"
            ],
            "text/plain": [
              "     studentId school  current_sem   cs01   cs02  cs03   cs04   cs05   cs06   \n",
              "955       1965  JKUAT          4.2  37.63  20.31    40  28.93  34.21  20.47  \\\n",
              "956       1966  JKUAT          4.2  37.35  21.92    40  24.35  38.30  22.10   \n",
              "957       1967  JKUAT          4.2  19.21   9.05    20   6.94  13.21   0.45   \n",
              "958       1968  JKUAT          4.2  19.69   1.50    20   8.91  17.11   8.00   \n",
              "959       1969  JKUAT          4.2  19.35   6.09    20   3.81  17.02   6.12   \n",
              "\n",
              "      cs07  ...  time_spent  ai_industry  cs_industry  da_industry   \n",
              "955  39.10  ...           8            0            0            0  \\\n",
              "956  32.73  ...           0            0            0            0   \n",
              "957  11.59  ...          14            0            0            0   \n",
              "958  17.42  ...          14            0            0            0   \n",
              "959  14.03  ...           0            0            0            0   \n",
              "\n",
              "     gd_industry  ho_industry  is_industry  na_industry  sd_industry   \n",
              "955            0            0            0            0            1  \\\n",
              "956            0            0            0            0            0   \n",
              "957            0            0            0            0            1   \n",
              "958            0            0            0            0            1   \n",
              "959            0            0            0            0            0   \n",
              "\n",
              "     specialisation  \n",
              "955              SD  \n",
              "956              SD  \n",
              "957              SD  \n",
              "958              SD  \n",
              "959              SD  \n",
              "\n",
              "[5 rows x 55 columns]"
            ]
          },
          "execution_count": 53,
          "metadata": {},
          "output_type": "execute_result"
        }
      ],
      "source": [
        "data = pd.read_csv('./data/jkuatStudents.csv')\n",
        "print(data.shape)\n",
        "data.tail()"
      ]
    },
    {
      "attachments": {},
      "cell_type": "markdown",
      "metadata": {},
      "source": [
        "# A bit of Pre-Processing"
      ]
    },
    {
      "attachments": {},
      "cell_type": "markdown",
      "metadata": {},
      "source": [
        "## Splitting Dataset"
      ]
    },
    {
      "cell_type": "code",
      "execution_count": 54,
      "metadata": {
        "id": "WC-xNQ6yY7zj"
      },
      "outputs": [],
      "source": [
        "# Select main columns to be used in training\n",
        "main_cols = data.columns.difference(['studentId', 'school', 'specialisation'])\n",
        "X = data[main_cols]\n",
        "y = data['specialisation']"
      ]
    },
    {
      "cell_type": "code",
      "execution_count": 55,
      "metadata": {},
      "outputs": [
        {
          "data": {
            "text/plain": [
              "Index(['ai_industry', 'aspNet', 'c', 'c#', 'c++', 'cmake', 'cs01', 'cs02',\n",
              "       'cs03', 'cs04', 'cs05', 'cs06', 'cs07', 'cs08', 'cs09', 'cs10', 'cs11',\n",
              "       'cs12', 'cs13', 'cs14', 'cs15', 'cs16', 'cs17', 'cs18', 'cs_industry',\n",
              "       'css', 'current_sem', 'da_industry', 'dart', 'gd_industry', 'go',\n",
              "       'ho_industry', 'html', 'internships_no', 'is_industry', 'java',\n",
              "       'javascript', 'jupyter', 'kotlin', 'na_industry', 'objective_c', 'php',\n",
              "       'python', 'r', 'ruby', 'rust', 'scss', 'sd_industry', 'sql', 'swift',\n",
              "       'time_spent', 'typescript'],\n",
              "      dtype='object')"
            ]
          },
          "execution_count": 55,
          "metadata": {},
          "output_type": "execute_result"
        }
      ],
      "source": [
        "X.columns"
      ]
    },
    {
      "cell_type": "code",
      "execution_count": 56,
      "metadata": {},
      "outputs": [
        {
          "name": "stdout",
          "output_type": "stream",
          "text": [
            "(672, 52)\n",
            "(288, 52)\n"
          ]
        }
      ],
      "source": [
        "# Split data into train and test sets\n",
        "X_train, X_test, y_train, y_test = train_test_split(X,y,test_size=0.3, random_state=42)\n",
        "\n",
        "print(X_train.shape)\n",
        "print(X_test.shape)"
      ]
    },
    {
      "cell_type": "code",
      "execution_count": 57,
      "metadata": {
        "id": "XOcg8RHmZDgH"
      },
      "outputs": [],
      "source": [
        "# Scale the features\n",
        "scaler = StandardScaler()\n",
        "X_train = scaler.fit_transform(X_train)\n",
        "X_test = scaler.transform(X_test)"
      ]
    },
    {
      "cell_type": "code",
      "execution_count": 58,
      "metadata": {
        "id": "Vh4-NopAZGM6"
      },
      "outputs": [],
      "source": [
        "# Encode the target variable\n",
        "encoder = LabelEncoder()\n",
        "y_train = encoder.fit_transform(y_train)\n",
        "y_test = encoder.transform(y_test)"
      ]
    },
    {
      "attachments": {},
      "cell_type": "markdown",
      "metadata": {
        "id": "rIudXhCBY3-i"
      },
      "source": [
        "# Modelling"
      ]
    },
    {
      "attachments": {},
      "cell_type": "markdown",
      "metadata": {},
      "source": [
        "## Logistic Regression"
      ]
    },
    {
      "cell_type": "code",
      "execution_count": 59,
      "metadata": {},
      "outputs": [
        {
          "name": "stdout",
          "output_type": "stream",
          "text": [
            "Best Parameters: {'C': 10}\n",
            "Accuracy : 0.9132\n",
            "F1 Score: 0.9178\n",
            "Confusion Matrix :\n",
            "[[38  0  0  0  0  0  0  0]\n",
            " [ 0 26  0  0  0  0  0  0]\n",
            " [ 0  4 40  0  0  0  0  0]\n",
            " [ 0  5  0 26  0  0  0  0]\n",
            " [ 0  1  0  1 41  0  1  0]\n",
            " [ 0  3  0  2  0 34  0  0]\n",
            " [ 0  3  0  0  0  0 25  0]\n",
            " [ 5  0  0  0  0  0  0 33]]\n"
          ]
        }
      ],
      "source": [
        "# Define the hyperparameters to tune\n",
        "parameters = {'C': [0.1, 1, 10]} # determines regularisation stretgth which helps prevent overfiting\n",
        "\n",
        "# Create the Logistic Regression model\n",
        "model_lr = LogisticRegression()\n",
        "\n",
        "# Perform grid search to find the best hyperparameters\n",
        "grid_search = GridSearchCV(model_lr, parameters, scoring='accuracy', cv=5)\n",
        "grid_search.fit(X_train, y_train)\n",
        "\n",
        "# Get the best model\n",
        "best_model_lr = grid_search.best_estimator_\n",
        "\n",
        "# Make predictions on the test set\n",
        "y_pred_model_lr = best_model_lr.predict(X_test)\n",
        "\n",
        "# Calculate evaluation metrics\n",
        "accuracy_model_lr = accuracy_score(y_test, y_pred_model_lr)\n",
        "f1_score_model_lr = f1_score(y_test, y_pred_model_lr, average='weighted')\n",
        "cm_model_lr = confusion_matrix(y_test, y_pred_model_lr)\n",
        "\n",
        "print(f\"Best Parameters: {grid_search.best_params_}\")\n",
        "print(f\"Accuracy : {round(accuracy_model_lr, 4)}\")\n",
        "print(f\"F1 Score: {round(f1_score_model_lr, 4)}\")\n",
        "print(f\"Confusion Matrix :\")\n",
        "print(cm_model_lr)\n"
      ]
    },
    {
      "attachments": {},
      "cell_type": "markdown",
      "metadata": {},
      "source": [
        "## Support Vecor Machine"
      ]
    },
    {
      "cell_type": "code",
      "execution_count": 60,
      "metadata": {},
      "outputs": [
        {
          "name": "stdout",
          "output_type": "stream",
          "text": [
            "Best Parameters: {'C': 0.1, 'kernel': 'linear'}\n",
            "Accuracy : 0.8819\n",
            "F1 Score: 0.8989\n",
            "Confusion Matrix :\n",
            "[[34  4  0  0  0  0  0  0]\n",
            " [ 0 26  0  0  0  0  0  0]\n",
            " [ 0  4 40  0  0  0  0  0]\n",
            " [ 0  5  0 26  0  0  0  0]\n",
            " [ 0  6  0  0 36  0  2  0]\n",
            " [ 0  5  0  0  0 34  0  0]\n",
            " [ 0  3  0  0  0  0 25  0]\n",
            " [ 0  5  0  0  0  0  0 33]]\n"
          ]
        }
      ],
      "source": [
        "# Define the hyperparameters to tune\n",
        "parameters = {'C': [0.1, 1, 10],\n",
        "              'kernel': ['linear', 'rbf']}\n",
        "\n",
        "# Create the model_SVM model\n",
        "model_svm = SVC()\n",
        "\n",
        "# Perform grid search to find the best hyperparameters\n",
        "grid_search = GridSearchCV(model_svm, parameters, scoring='accuracy', cv=5)\n",
        "grid_search.fit(X_train, y_train)\n",
        "\n",
        "# Get the best model\n",
        "best_model_svm = grid_search.best_estimator_\n",
        "\n",
        "# Make predictions on the test set\n",
        "y_pred_model_svm = best_model_svm.predict(X_test)\n",
        "\n",
        "# Calculate evaluation metrics\n",
        "accuracy_model_svm = accuracy_score(y_test, y_pred_model_svm)\n",
        "f1_score_model_svm = f1_score(y_test, y_pred_model_svm, average='weighted')\n",
        "cm_model_svm = confusion_matrix(y_test, y_pred_model_svm)\n",
        "\n",
        "print(f\"Best Parameters: {grid_search.best_params_}\")\n",
        "print(f\"Accuracy : {round(accuracy_model_svm, 4)}\")\n",
        "print(f\"F1 Score: {round(f1_score_model_svm, 4)}\")\n",
        "print(f\"Confusion Matrix :\")\n",
        "print(cm_model_svm)"
      ]
    },
    {
      "attachments": {},
      "cell_type": "markdown",
      "metadata": {},
      "source": [
        "## Gradient Boosting"
      ]
    },
    {
      "cell_type": "code",
      "execution_count": 61,
      "metadata": {},
      "outputs": [
        {
          "name": "stdout",
          "output_type": "stream",
          "text": [
            "Best Parameters: {'learning_rate': 0.1, 'max_depth': 10, 'n_estimators': 200}\n",
            "Accuracy : 0.9097\n",
            "F1 Score: 0.9105\n",
            "Confusion Matrix :\n",
            "[[35  0  0  1  0  0  0  2]\n",
            " [ 0 24  1  0  0  0  1  0]\n",
            " [ 0  2 40  1  0  0  1  0]\n",
            " [ 0  1  0 27  0  1  0  2]\n",
            " [ 0  2  2  0 39  0  1  0]\n",
            " [ 1  1  1  0  0 35  1  0]\n",
            " [ 0  0  2  0  0  0 26  0]\n",
            " [ 2  0  0  0  0  0  0 36]]\n"
          ]
        }
      ],
      "source": [
        "# Define the hyperparameters to tune\n",
        "parameters = {'n_estimators': [100, 200, 300],\n",
        "              'learning_rate': [0.1, 0.05, 0.01],\n",
        "              'max_depth': [3, 5, 10]}\n",
        "\n",
        "# Create the Gradient Boosting model\n",
        "model_gb = GradientBoostingClassifier()\n",
        "\n",
        "# Perform grid search to find the best hyperparameters\n",
        "grid_search = GridSearchCV(model_gb, parameters, scoring='accuracy', cv=5)\n",
        "grid_search.fit(X_train, y_train)\n",
        "\n",
        "# Get the best model\n",
        "best_model_gb = grid_search.best_estimator_\n",
        "\n",
        "# Make predictions on the test set\n",
        "y_pred_model_gb = best_model_gb.predict(X_test)\n",
        "\n",
        "# Calculate evaluation metrics\n",
        "accuracy_model_gb = accuracy_score(y_test, y_pred_model_gb)\n",
        "f1_score_model_gb = f1_score(y_test, y_pred_model_gb, average='weighted')\n",
        "cm_model_gb = confusion_matrix(y_test, y_pred_model_gb)\n",
        "\n",
        "print(f\"Best Parameters: {grid_search.best_params_}\")\n",
        "print(f\"Accuracy : {round(accuracy_model_gb, 4)}\")\n",
        "print(f\"F1 Score: {round(f1_score_model_gb, 4)}\")\n",
        "print(f\"Confusion Matrix :\")\n",
        "print(cm_model_gb)"
      ]
    },
    {
      "attachments": {},
      "cell_type": "markdown",
      "metadata": {},
      "source": [
        "## Random Forest"
      ]
    },
    {
      "cell_type": "code",
      "execution_count": 62,
      "metadata": {},
      "outputs": [
        {
          "name": "stdout",
          "output_type": "stream",
          "text": [
            "Best Parameters: {'max_depth': None, 'n_estimators': 200}\n",
            "Accuracy : 0.9306\n",
            "F1 Score: 0.9312\n",
            "Confusion Matrix :\n",
            "[[37  0  0  0  0  0  0  1]\n",
            " [ 0 26  0  0  0  0  0  0]\n",
            " [ 0  3 40  0  0  0  1  0]\n",
            " [ 0  0  2 27  0  1  1  0]\n",
            " [ 0  1  1  0 41  0  1  0]\n",
            " [ 0  1  2  0  0 36  0  0]\n",
            " [ 0  0  2  0  0  0 26  0]\n",
            " [ 3  0  0  0  0  0  0 35]]\n"
          ]
        }
      ],
      "source": [
        "# Define the hyperparameters to tune\n",
        "parameters = {'n_estimators': [100, 200, 300],\n",
        "              'max_depth': [None, 5, 10]}\n",
        "\n",
        "# Create the Random Forest model\n",
        "model_rf = RandomForestClassifier()\n",
        "\n",
        "# Pemodel_rform grid search to find the best hyperparameters\n",
        "grid_search = GridSearchCV(model_rf, parameters, scoring='accuracy', cv=5)\n",
        "grid_search.fit(X_train, y_train)\n",
        "\n",
        "# Get the best model\n",
        "best_model_rf = grid_search.best_estimator_\n",
        "\n",
        "# Make predictions on the test set\n",
        "y_pred_model_rf = best_model_rf.predict(X_test)\n",
        "\n",
        "# Calculate evaluation metrics\n",
        "accuracy_model_rf = accuracy_score(y_test, y_pred_model_rf)\n",
        "f1_score_model_rf = f1_score(y_test, y_pred_model_rf, average='weighted')\n",
        "cm_model_rf = confusion_matrix(y_test, y_pred_model_rf)\n",
        "\n",
        "print(f\"Best Parameters: {grid_search.best_params_}\")\n",
        "print(f\"Accuracy : {round(accuracy_model_rf, 4)}\")\n",
        "print(f\"F1 Score: {round(f1_score_model_rf, 4)}\")\n",
        "print(f\"Confusion Matrix :\")\n",
        "print(cm_model_rf)\n"
      ]
    },
    {
      "attachments": {},
      "cell_type": "markdown",
      "metadata": {
        "id": "VLEsKGs_ZMel"
      },
      "source": [
        "## Random Forest Classifier"
      ]
    },
    {
      "cell_type": "code",
      "execution_count": 63,
      "metadata": {},
      "outputs": [],
      "source": [
        "importances = best_model_rf.feature_importances_\n",
        "indices = np.argsort(importances)"
      ]
    },
    {
      "cell_type": "code",
      "execution_count": 64,
      "metadata": {},
      "outputs": [
        {
          "data": {
            "image/png": "[encoded data removed]",
            "text/plain": [
              "<Figure size 1500x1200 with 1 Axes>"
            ]
          },
          "metadata": {},
          "output_type": "display_data"
        }
      ],
      "source": [
        "X_df = pd.DataFrame(X_train)\n",
        "\n",
        "fig, ax = plt.subplots(figsize=(15, 12))\n",
        "ax.barh(range(X_df.shape[1]), list(importances[indices]), align='center')\n",
        "ax.set_yticks(range(X_df.shape[1]))\n",
        "ax.set_yticklabels(data.columns[indices])\n",
        "ax.set_xlabel('Importance')\n",
        "ax.set_ylabel('Column')\n",
        "ax.set_title('Random Forest Feature Importance Plot - JKUAT Dataset')\n",
        "\n",
        "# Add the importance value at the end of each bar\n",
        "for i, v in enumerate(importances[indices]):\n",
        "    ax.text(v + 0.001, i, str(round(v, 3)))\n",
        "\n",
        "plt.show()"
      ]
    },
    {
      "attachments": {},
      "cell_type": "markdown",
      "metadata": {},
      "source": [
        "# Exporting the Model"
      ]
    },
    {
      "cell_type": "code",
      "execution_count": 65,
      "metadata": {},
      "outputs": [
        {
          "data": {
            "text/plain": [
              "['trainedModels/jkuatClassifier.pkl']"
            ]
          },
          "execution_count": 65,
          "metadata": {},
          "output_type": "execute_result"
        }
      ],
      "source": [
        "# save the trained classifier as a .pkl file\n",
        "joblib.dump(best_model_rf, 'trainedModels/jkuatClassifier.pkl')"
      ]
    },
    {
      "attachments": {},
      "cell_type": "markdown",
      "metadata": {},
      "source": [
        "# Make specialisation predictions on test data"
      ]
    },
    {
      "cell_type": "code",
      "execution_count": 66,
      "metadata": {},
      "outputs": [],
      "source": [
        "# Create a new instance of student data to make predictions on\n",
        "new_student = pd.DataFrame({\n",
        "    'current_sem': [3.0],\n",
        "    'cs01': [22.85],\n",
        "    'cs02': [26.5],\n",
        "    'cs03': [40],\n",
        "    'cs04': [18.1],\n",
        "    'cs05': [21.74],\n",
        "    'cs06': [9.47],\n",
        "    'cs07': [28.5],\n",
        "    'cs08': [7.08],\n",
        "    'cs09': [0],\n",
        "    'cs10': [0],\n",
        "    'cs11': [0],\n",
        "    'cs12': [20],\n",
        "    'cs13': [0],\n",
        "    'cs14': [40],\n",
        "    'cs15': [26.65],\n",
        "    'cs16': [0],\n",
        "    'cs17': [0],\n",
        "    'cs18': [0],\n",
        "    'academic_average': [23.72],\n",
        "    'c': [0],\n",
        "    'cmake': [0],\n",
        "    'c++': [0],\n",
        "    'java': [0],\n",
        "    'javascript': [15],\n",
        "    'python': [0],\n",
        "    'r': [0],\n",
        "    'jupyter': [0],\n",
        "    'dart': [0],\n",
        "    'kotlin': [0],\n",
        "    'go': [0],\n",
        "    'swift': [0],\n",
        "    'c#': [0],\n",
        "    'aspNet': [0],\n",
        "    'typescript': [0],\n",
        "    'php': [0],\n",
        "    'objective_c': [0],\n",
        "    'ruby': [0],\n",
        "    'html': [76],\n",
        "    'css': [9],\n",
        "    'scss': [9],\n",
        "    'sql': [0],\n",
        "    'rust': [1],\n",
        "    'internships_no': [0],\n",
        "    'time_spent': [1],\n",
        "    'ai_industry': [0],\n",
        "    'cs_industry': [0],\n",
        "    'da_industry': [0],\n",
        "    'gd_industry': [0],\n",
        "    'ho_industry': [0],\n",
        "    'is_industry': [0],\n",
        "    'na_industry': [0],\n",
        "    'sd_industry': [1]\n",
        "})\n",
        "new_student = new_student[['ai_industry', 'aspNet', 'c', 'c#', 'c++', 'cmake', 'cs01', 'cs02',\n",
        "       'cs03', 'cs04', 'cs05', 'cs06', 'cs07', 'cs08', 'cs09', 'cs10', 'cs11',\n",
        "       'cs12', 'cs13', 'cs14', 'cs15', 'cs16', 'cs17', 'cs18', 'cs_industry',\n",
        "       'css', 'current_sem', 'da_industry', 'dart', 'gd_industry', 'go',\n",
        "       'ho_industry', 'html', 'internships_no', 'is_industry', 'java',\n",
        "       'javascript', 'jupyter', 'kotlin', 'na_industry', 'objective_c', 'php',\n",
        "       'python', 'r', 'ruby', 'rust', 'scss', 'sd_industry', 'sql', 'swift',\n",
        "       'time_spent', 'typescript']]\n",
        "new_student = scaler.transform(new_student)"
      ]
    },
    {
      "cell_type": "code",
      "execution_count": 67,
      "metadata": {
        "colab": {
          "base_uri": "https://localhost:8080/"
        },
        "id": "0PvkK-RAaBMd",
        "outputId": "d301cb55-c2c3-4f76-92eb-797bf253fbc2"
      },
      "outputs": [
        {
          "data": {
            "text/plain": [
              "array(['GD'], dtype=object)"
            ]
          },
          "execution_count": 67,
          "metadata": {},
          "output_type": "execute_result"
        }
      ],
      "source": [
        "# Get Student Prediction\n",
        "preds = best_model_rf.predict(new_student)\n",
        "preds = encoder.inverse_transform(preds)\n",
        "preds"
      ]
    },
    {
      "cell_type": "code",
      "execution_count": 68,
      "metadata": {
        "colab": {
          "base_uri": "https://localhost:8080/"
        },
        "id": "l1nTVi29aOSR",
        "outputId": "f661345a-dad8-495d-9da3-f12a886bb4e5"
      },
      "outputs": [
        {
          "name": "stdout",
          "output_type": "stream",
          "text": [
            "AI: 0.00\n",
            "CS: 0.00\n",
            "DA: 0.00\n",
            "GD: 0.91\n",
            "HO: 0.09\n",
            "IS: 0.00\n",
            "NC: 0.00\n",
            "SD: 0.00\n"
          ]
        }
      ],
      "source": [
        "# Compute specialisation compatibility scores\n",
        "probs = best_model_rf.predict_proba(new_student)\n",
        "for spec, prob in zip(encoder.classes_, probs[0]):\n",
        "    print(f'{spec}: {prob:.2f}')"
      ]
    }
  ],
  "metadata": {
    "colab": {
      "provenance": []
    },
    "kernelspec": {
      "display_name": "Python 3",
      "name": "python3"
    },
    "language_info": {
      "codemirror_mode": {
        "name": "ipython",
        "version": 3
      },
      "file_extension": ".py",
      "mimetype": "text/x-python",
      "name": "python",
      "nbconvert_exporter": "python",
      "pygments_lexer": "ipython3",
      "version": "3.10.6"
    }
  },
  "nbformat": 4,
  "nbformat_minor": 0
}
